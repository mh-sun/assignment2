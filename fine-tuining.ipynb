{
 "cells": [
  {
   "cell_type": "code",
   "execution_count": 46,
   "metadata": {},
   "outputs": [],
   "source": [
    "import json\n",
    "from datasets import load_dataset\n",
    "from transformers import (\n",
    "    T5ForConditionalGeneration,\n",
    "    T5Tokenizer,\n",
    "    Trainer,\n",
    "    TrainingArguments\n",
    ")\n",
    "import torch\n",
    "from transformers import AutoModelForSeq2SeqLM, AutoTokenizer\n",
    "import re\n",
    "import pandas as pd"
   ]
  },
  {
   "cell_type": "code",
   "execution_count": 47,
   "metadata": {},
   "outputs": [
    {
     "data": {
      "text/plain": [
       "'def parse_junit_reports(path_to_reports: str) -> list[TestCase]:  \\n    def parse_file(path: str) -> list[TestCase]:  \\n        try:\\n            return convert_junit_to_testcases(JUnitXml.fromfile(path))\\n        except Exception as err:\\n            rich.print(\\n                f\":Warning: [yellow]Warning[/yellow]: Failed to read {path}: {err}\"\\n            )\\n            return []\\n    if not os.path.exists(path_to_reports):\\n        raise FileNotFoundError(f\"Path \\'{path_to_reports}\\', not found\")\\n    \\n    if os.path.isfile(path_to_reports):\\n        return parse_file(path_to_reports)\\n    ret_xml = []\\n    if os.path.isdir(path_to_reports):\\n        for root, _, files in os.walk(path_to_reports):\\n            for fname in [f for f in files if f.endswith(\"xml\")]:\\n                ret_xml += parse_file(os.path.join(root, fname))\\n    return ret_xml'"
      ]
     },
     "execution_count": 47,
     "metadata": {},
     "output_type": "execute_result"
    }
   ],
   "source": [
    "df = pd.read_csv('flatten_dataset.csv')\n",
    "df['cleaned_method'][0]"
   ]
  },
  {
   "cell_type": "code",
   "execution_count": 3,
   "metadata": {},
   "outputs": [
    {
     "name": "stdout",
     "output_type": "stream",
     "text": [
      "                                         original_method  \\\n",
      "0      def parse_junit_reports(path_to_reports: str) ...   \n",
      "1      def convert_junit_to_testcases(xml: JUnitXml |...   \n",
      "2      def render_tests(testcases: list[TestCase]) ->...   \n",
      "3      def deep_update(d: dict, u: dict) -> dict:  # ...   \n",
      "4      def main() -> None:\\n    recommended_settings ...   \n",
      "...                                                  ...   \n",
      "76935  def check_git_version():\\n    # check git vers...   \n",
      "76936  def sort_lines_mailmap(lines):\\n    for n, lin...   \n",
      "76937  def key(line):\\n        # return lower case fi...   \n",
      "76938  def generate_covered_files(top_dir):\\n    for ...   \n",
      "76939  def make_report(\\n    test_args, source_dir='s...   \n",
      "\n",
      "                                          cleaned_method  \\\n",
      "0      def parse_junit_reports(path_to_reports: str) ...   \n",
      "1      def convert_junit_to_testcases(xml: JUnitXml |...   \n",
      "2      def render_tests(testcases: list[TestCase]) ->...   \n",
      "3      def deep_update(d: dict, u: dict) -> dict:  \\n...   \n",
      "4      def main() -> None:\\n    recommended_settings ...   \n",
      "...                                                  ...   \n",
      "76935  def check_git_version():\\n    \\n    minimal = ...   \n",
      "76936  def sort_lines_mailmap(lines):\\n    for n, lin...   \n",
      "76937  def key(line):\\n        \\n        \\n        if...   \n",
      "76938  def generate_covered_files(top_dir):\\n    for ...   \n",
      "76939  def make_report(\\n    test_args, source_dir='s...   \n",
      "\n",
      "                                           masked_method  \\\n",
      "0      def parse_junit_reports(path_to_reports: str) ...   \n",
      "1      def convert_junit_to_testcases(xml: JUnitXml |...   \n",
      "2      def render_tests(testcases: list[TestCase]) ->...   \n",
      "3      def deep_update(d: dict, u: dict) -> dict:  \\n...   \n",
      "4      def main() -> None:\\n    recommended_settings ...   \n",
      "...                                                  ...   \n",
      "76935  def check_git_version():\\n    \\n    minimal = ...   \n",
      "76936  def sort_lines_mailmap(lines):\\n    for n, lin...   \n",
      "76937  def key(line):\\n        \\n        \\n        if...   \n",
      "76938  def generate_covered_files(top_dir):\\n    for ...   \n",
      "76939  def make_report(\\n    test_args, source_dir='s...   \n",
      "\n",
      "                                          condition_line  \\\n",
      "0                if not os.path.exists(path_to_reports):   \n",
      "1                        if isinstance(item, TestSuite):   \n",
      "2                                if not testcase.result:   \n",
      "3                                if isinstance(v, dict):   \n",
      "4                                          if HAS_JSON5:   \n",
      "...                                                  ...   \n",
      "76935  if version_tuple(git_ver) < version_tuple(mini...   \n",
      "76936                                                NaN   \n",
      "76937                                                NaN   \n",
      "76938                      if source_re.match(filename):   \n",
      "76939                                      if use_cache:   \n",
      "\n",
      "       masked_method_token_count  condition_token_count  \\\n",
      "0                             65                      3   \n",
      "1                             20                      3   \n",
      "2                             76                      3   \n",
      "3                             33                      3   \n",
      "4                             73                      2   \n",
      "...                          ...                    ...   \n",
      "76935                         26                      4   \n",
      "76936                         24                      0   \n",
      "76937                         24                      0   \n",
      "76938                         30                      2   \n",
      "76939                         59                      2   \n",
      "\n",
      "                                        flattened_method  \n",
      "0      def <SPACE> parse_junit_reports(path_to_report...  \n",
      "1      def <SPACE> convert_junit_to_testcases(xml: <S...  \n",
      "2      def <SPACE> render_tests(testcases: <SPACE> li...  \n",
      "3      def <SPACE> deep_update(d: <SPACE> dict, <SPAC...  \n",
      "4      def <SPACE> main() <SPACE> -> <SPACE> None: <N...  \n",
      "...                                                  ...  \n",
      "76935  def <SPACE> check_git_version(): <NEWLINE>  <S...  \n",
      "76936  def <SPACE> sort_lines_mailmap(lines): <NEWLIN...  \n",
      "76937  def <SPACE> key(line): <NEWLINE>  <SPACE>  <SP...  \n",
      "76938  def <SPACE> generate_covered_files(top_dir): <...  \n",
      "76939  def <SPACE> make_report( <NEWLINE>  <SPACE>  <...  \n",
      "\n",
      "[76940 rows x 7 columns]\n"
     ]
    }
   ],
   "source": [
    "print(df)"
   ]
  },
  {
   "cell_type": "code",
   "execution_count": 48,
   "metadata": {},
   "outputs": [
    {
     "name": "stderr",
     "output_type": "stream",
     "text": [
      "Found cached dataset csv (/home/miislam/.cache/huggingface/datasets/csv/default-f6e583c620e16a3a/0.0.0/eea64c71ca8b46dd3f537ed218fc9bf495d5707789152eb2764f5c78fa66d59d)\n"
     ]
    },
    {
     "name": "stdout",
     "output_type": "stream",
     "text": [
      "{'original_method': 'def parse_junit_reports(path_to_reports: str) -> list[TestCase]:  # type: ignore[no-any-unimported]\\n    def parse_file(path: str) -> list[TestCase]:  # type: ignore[no-any-unimported]\\n        try:\\n            return convert_junit_to_testcases(JUnitXml.fromfile(path))\\n        except Exception as err:\\n            rich.print(\\n                f\":Warning: [yellow]Warning[/yellow]: Failed to read {path}: {err}\"\\n            )\\n            return []\\n\\n    if not os.path.exists(path_to_reports):\\n        raise FileNotFoundError(f\"Path \\'{path_to_reports}\\', not found\")\\n    # Return early if the path provided is just a file\\n    if os.path.isfile(path_to_reports):\\n        return parse_file(path_to_reports)\\n    ret_xml = []\\n    if os.path.isdir(path_to_reports):\\n        for root, _, files in os.walk(path_to_reports):\\n            for fname in [f for f in files if f.endswith(\"xml\")]:\\n                ret_xml += parse_file(os.path.join(root, fname))\\n    return ret_xml', 'cleaned_method': 'def parse_junit_reports(path_to_reports: str) -> list[TestCase]:  \\n    def parse_file(path: str) -> list[TestCase]:  \\n        try:\\n            return convert_junit_to_testcases(JUnitXml.fromfile(path))\\n        except Exception as err:\\n            rich.print(\\n                f\":Warning: [yellow]Warning[/yellow]: Failed to read {path}: {err}\"\\n            )\\n            return []\\n    if not os.path.exists(path_to_reports):\\n        raise FileNotFoundError(f\"Path \\'{path_to_reports}\\', not found\")\\n    \\n    if os.path.isfile(path_to_reports):\\n        return parse_file(path_to_reports)\\n    ret_xml = []\\n    if os.path.isdir(path_to_reports):\\n        for root, _, files in os.walk(path_to_reports):\\n            for fname in [f for f in files if f.endswith(\"xml\")]:\\n                ret_xml += parse_file(os.path.join(root, fname))\\n    return ret_xml', 'masked_method': 'def parse_junit_reports(path_to_reports: str) -> list[TestCase]:  \\n    def parse_file(path: str) -> list[TestCase]:  \\n        try:\\n            return convert_junit_to_testcases(JUnitXml.fromfile(path))\\n        except Exception as err:\\n            rich.print(\\n                f\":Warning: [yellow]Warning[/yellow]: Failed to read {path}: {err}\"\\n            )\\n            return []\\n    <CONDITION>\\n        raise FileNotFoundError(f\"Path \\'{path_to_reports}\\', not found\")\\n    \\n    if os.path.isfile(path_to_reports):\\n        return parse_file(path_to_reports)\\n    ret_xml = []\\n    if os.path.isdir(path_to_reports):\\n        for root, _, files in os.walk(path_to_reports):\\n            for fname in [f for f in files if f.endswith(\"xml\")]:\\n                ret_xml += parse_file(os.path.join(root, fname))\\n    return ret_xml', 'condition_line': 'if not os.path.exists(path_to_reports):', 'masked_method_token_count': 65, 'condition_token_count': 3, 'flattened_method': 'def <SPACE> parse_junit_reports(path_to_reports: <SPACE> str) <SPACE> -> <SPACE> list[TestCase]: <SPACE>  <SPACE>  <NEWLINE>  <SPACE>  <SPACE>  <SPACE>  <SPACE> def <SPACE> parse_file(path: <SPACE> str) <SPACE> -> <SPACE> list[TestCase]: <SPACE>  <SPACE>  <NEWLINE>  <SPACE>  <SPACE>  <SPACE>  <SPACE>  <SPACE>  <SPACE>  <SPACE>  <SPACE> try: <NEWLINE>  <SPACE>  <SPACE>  <SPACE>  <SPACE>  <SPACE>  <SPACE>  <SPACE>  <SPACE>  <SPACE>  <SPACE>  <SPACE>  <SPACE> return <SPACE> convert_junit_to_testcases(JUnitXml.fromfile(path)) <NEWLINE>  <SPACE>  <SPACE>  <SPACE>  <SPACE>  <SPACE>  <SPACE>  <SPACE>  <SPACE> except <SPACE> Exception <SPACE> as <SPACE> err: <NEWLINE>  <SPACE>  <SPACE>  <SPACE>  <SPACE>  <SPACE>  <SPACE>  <SPACE>  <SPACE>  <SPACE>  <SPACE>  <SPACE>  <SPACE> rich.print( <NEWLINE>  <SPACE>  <SPACE>  <SPACE>  <SPACE>  <SPACE>  <SPACE>  <SPACE>  <SPACE>  <SPACE>  <SPACE>  <SPACE>  <SPACE>  <SPACE>  <SPACE>  <SPACE>  <SPACE> f\":Warning: <SPACE> [yellow]Warning[/yellow]: <SPACE> Failed <SPACE> to <SPACE> read <SPACE> {path}: <SPACE> {err}\" <NEWLINE>  <SPACE>  <SPACE>  <SPACE>  <SPACE>  <SPACE>  <SPACE>  <SPACE>  <SPACE>  <SPACE>  <SPACE>  <SPACE>  <SPACE> ) <NEWLINE>  <SPACE>  <SPACE>  <SPACE>  <SPACE>  <SPACE>  <SPACE>  <SPACE>  <SPACE>  <SPACE>  <SPACE>  <SPACE>  <SPACE> return <SPACE> [] <NEWLINE>  <SPACE>  <SPACE>  <SPACE>  <SPACE> <CONDITION> <NEWLINE>  <SPACE>  <SPACE>  <SPACE>  <SPACE>  <SPACE>  <SPACE>  <SPACE>  <SPACE> raise <SPACE> FileNotFoundError(f\"Path <SPACE> \\'{path_to_reports}\\', <SPACE> not <SPACE> found\") <NEWLINE>  <SPACE>  <SPACE>  <SPACE>  <SPACE>  <NEWLINE>  <SPACE>  <SPACE>  <SPACE>  <SPACE> if <SPACE> os.path.isfile(path_to_reports): <NEWLINE>  <SPACE>  <SPACE>  <SPACE>  <SPACE>  <SPACE>  <SPACE>  <SPACE>  <SPACE> return <SPACE> parse_file(path_to_reports) <NEWLINE>  <SPACE>  <SPACE>  <SPACE>  <SPACE> ret_xml <SPACE> = <SPACE> [] <NEWLINE>  <SPACE>  <SPACE>  <SPACE>  <SPACE> if <SPACE> os.path.isdir(path_to_reports): <NEWLINE>  <SPACE>  <SPACE>  <SPACE>  <SPACE>  <SPACE>  <SPACE>  <SPACE>  <SPACE> for <SPACE> root, <SPACE> _, <SPACE> files <SPACE> in <SPACE> os.walk(path_to_reports): <NEWLINE>  <SPACE>  <SPACE>  <SPACE>  <SPACE>  <SPACE>  <SPACE>  <SPACE>  <SPACE>  <SPACE>  <SPACE>  <SPACE>  <SPACE> for <SPACE> fname <SPACE> in <SPACE> [f <SPACE> for <SPACE> f <SPACE> in <SPACE> files <SPACE> if <SPACE> f.endswith(\"xml\")]: <NEWLINE>  <SPACE>  <SPACE>  <SPACE>  <SPACE>  <SPACE>  <SPACE>  <SPACE>  <SPACE>  <SPACE>  <SPACE>  <SPACE>  <SPACE>  <SPACE>  <SPACE>  <SPACE>  <SPACE> ret_xml <SPACE> += <SPACE> parse_file(os.path.join(root, <SPACE> fname)) <NEWLINE>  <SPACE>  <SPACE>  <SPACE>  <SPACE> return <SPACE> ret_xml'}\n",
      "[1, 32099, 2]\n"
     ]
    }
   ],
   "source": [
    "data_files = 'flatten_dataset.csv'\n",
    "dataset = load_dataset(\"csv\", split=\"train\",data_files=data_files)  # Using a small subset for testing\n",
    "print(dataset[0])\n",
    "# 2. Preprocessing (Tokenization and Custom Masking)\n",
    "# Load a pre-trained tokenizer\n",
    "#tokenizer = T5Tokenizer.from_pretrained(\"t5-small\")\n",
    "tokenizer = AutoTokenizer.from_pretrained(\"../pretrained_codet5\")\n",
    "print(tokenizer.encode(\"<extra_id_0>\"))"
   ]
  },
  {
   "cell_type": "code",
   "execution_count": 33,
   "metadata": {},
   "outputs": [
    {
     "name": "stdout",
     "output_type": "stream",
     "text": [
      "Dataset({\n",
      "    features: ['original_method', 'cleaned_method', 'masked_method', 'condition_line', 'masked_method_token_count', 'condition_token_count', 'flattened_method'],\n",
      "    num_rows: 76940\n",
      "})\n"
     ]
    }
   ],
   "source": [
    "print(dataset)"
   ]
  },
  {
   "cell_type": "code",
   "execution_count": null,
   "metadata": {},
   "outputs": [
    {
     "name": "stdout",
     "output_type": "stream",
     "text": [
      "def parse_junit_reports(path_to_reports: str) -> list[TestCase]:   <TAB> def parse_file(path: str) -> list[TestCase]:   <TAB> <TAB> try: <TAB> <TAB> <TAB> return convert_junit_to_testcases(JUnitXml.fromfile(path)) <TAB> <TAB> except Exception as err: <TAB> <TAB> <TAB> rich.print( <TAB> <TAB> <TAB> <TAB> f\":Warning: [yellow]Warning[/yellow]: Failed to read {path}: {err}\" <TAB> <TAB> <TAB> ) <TAB> <TAB> <TAB> return [] <TAB> if not os.path.exists(path_to_reports): <TAB> <TAB> raise FileNotFoundError(f\"Path '{path_to_reports}', not found\") <TAB>  <TAB> if os.path.isfile(path_to_reports): <TAB> <TAB> return parse_file(path_to_reports) <TAB> ret_xml = [] <TAB> if os.path.isdir(path_to_reports): <TAB> <TAB> for root, _, files in os.walk(path_to_reports): <TAB> <TAB> <TAB> for fname in [f for f in files if f.endswith(\"xml\")]: <TAB> <TAB> <TAB> <TAB> ret_xml += parse_file(os.path.join(root, fname)) <TAB> return ret_xml\n"
     ]
    },
    {
     "data": {
      "text/html": [
       "<pre style=\"white-space:pre;overflow-x:auto;line-height:normal;font-family:Menlo,'DejaVu Sans Mono',consolas,'Courier New',monospace\"><span style=\"color: #800000; text-decoration-color: #800000\">╭─────────────────────────────── </span><span style=\"color: #800000; text-decoration-color: #800000; font-weight: bold\">Traceback </span><span style=\"color: #bf7f7f; text-decoration-color: #bf7f7f; font-weight: bold\">(most recent call last)</span><span style=\"color: #800000; text-decoration-color: #800000\"> ────────────────────────────────╮</span>\n",
       "<span style=\"color: #800000; text-decoration-color: #800000\">│</span> in <span style=\"color: #00ff00; text-decoration-color: #00ff00\">&lt;module&gt;</span>:<span style=\"color: #0000ff; text-decoration-color: #0000ff\">19</span>                                                                                   <span style=\"color: #800000; text-decoration-color: #800000\">│</span>\n",
       "<span style=\"color: #800000; text-decoration-color: #800000\">│</span>                                                                                                  <span style=\"color: #800000; text-decoration-color: #800000\">│</span>\n",
       "<span style=\"color: #800000; text-decoration-color: #800000\">│</span>   <span style=\"color: #7f7f7f; text-decoration-color: #7f7f7f\">16 </span><span style=\"color: #7f7f7f; text-decoration-color: #7f7f7f\">│   </span><span style=\"color: #0000ff; text-decoration-color: #0000ff\">return</span> <span style=\"color: #808000; text-decoration-color: #808000\">\" \"</span>.join(converted_lines)                                                        <span style=\"color: #800000; text-decoration-color: #800000\">│</span>\n",
       "<span style=\"color: #800000; text-decoration-color: #800000\">│</span>   <span style=\"color: #7f7f7f; text-decoration-color: #7f7f7f\">17 </span><span style=\"color: #00ffff; text-decoration-color: #00ffff\">print</span>(convert_indentation_to_tabs(df[<span style=\"color: #808000; text-decoration-color: #808000\">'cleaned_method'</span>][<span style=\"color: #0000ff; text-decoration-color: #0000ff\">0</span>]))                                 <span style=\"color: #800000; text-decoration-color: #800000\">│</span>\n",
       "<span style=\"color: #800000; text-decoration-color: #800000\">│</span>   <span style=\"color: #7f7f7f; text-decoration-color: #7f7f7f\">18 </span><span style=\"color: #0000ff; text-decoration-color: #0000ff\">for</span> i <span style=\"color: #ff00ff; text-decoration-color: #ff00ff\">in</span> <span style=\"color: #00ffff; text-decoration-color: #00ffff\">range</span>(<span style=\"color: #00ffff; text-decoration-color: #00ffff\">len</span>(dataset)):                                                               <span style=\"color: #800000; text-decoration-color: #800000\">│</span>\n",
       "<span style=\"color: #800000; text-decoration-color: #800000\">│</span> <span style=\"color: #800000; text-decoration-color: #800000\">❱ </span>19 <span style=\"color: #7f7f7f; text-decoration-color: #7f7f7f\">  </span>dataset[<span style=\"color: #808000; text-decoration-color: #808000\">'cleaned_method'</span>][i] = convert_indentation_to_tabs(dataset[<span style=\"color: #808000; text-decoration-color: #808000\">'cleaned_method'</span>][i    <span style=\"color: #800000; text-decoration-color: #800000\">│</span>\n",
       "<span style=\"color: #800000; text-decoration-color: #800000\">│</span>   <span style=\"color: #7f7f7f; text-decoration-color: #7f7f7f\">20 </span>                                                                                            <span style=\"color: #800000; text-decoration-color: #800000\">│</span>\n",
       "<span style=\"color: #800000; text-decoration-color: #800000\">│</span>                                                                                                  <span style=\"color: #800000; text-decoration-color: #800000\">│</span>\n",
       "<span style=\"color: #800000; text-decoration-color: #800000\">│</span> <span style=\"color: #bfbf7f; text-decoration-color: #bfbf7f\">/home/miislam/.local/lib/python3.7/site-packages/datasets/</span><span style=\"color: #808000; text-decoration-color: #808000; font-weight: bold\">arrow_dataset.py</span>:<span style=\"color: #0000ff; text-decoration-color: #0000ff\">2792</span> in <span style=\"color: #00ff00; text-decoration-color: #00ff00\">__getitem__</span>   <span style=\"color: #800000; text-decoration-color: #800000\">│</span>\n",
       "<span style=\"color: #800000; text-decoration-color: #800000\">│</span>                                                                                                  <span style=\"color: #800000; text-decoration-color: #800000\">│</span>\n",
       "<span style=\"color: #800000; text-decoration-color: #800000\">│</span>   <span style=\"color: #7f7f7f; text-decoration-color: #7f7f7f\">2789 </span><span style=\"color: #7f7f7f; text-decoration-color: #7f7f7f\">│   </span>                                                                                      <span style=\"color: #800000; text-decoration-color: #800000\">│</span>\n",
       "<span style=\"color: #800000; text-decoration-color: #800000\">│</span>   <span style=\"color: #7f7f7f; text-decoration-color: #7f7f7f\">2790 </span><span style=\"color: #7f7f7f; text-decoration-color: #7f7f7f\">│   </span><span style=\"color: #0000ff; text-decoration-color: #0000ff\">def</span> <span style=\"color: #00ff00; text-decoration-color: #00ff00\">__getitem__</span>(<span style=\"color: #00ffff; text-decoration-color: #00ffff\">self</span>, key):  <span style=\"color: #7f7f7f; text-decoration-color: #7f7f7f\"># noqa: F811</span>                                             <span style=\"color: #800000; text-decoration-color: #800000\">│</span>\n",
       "<span style=\"color: #800000; text-decoration-color: #800000\">│</span>   <span style=\"color: #7f7f7f; text-decoration-color: #7f7f7f\">2791 </span><span style=\"color: #bfbfbf; text-decoration-color: #bfbfbf\">│   │   </span><span style=\"color: #808000; text-decoration-color: #808000\">\"\"\"Can be used to index columns (by string names) or rows (by integer index or i</span>  <span style=\"color: #800000; text-decoration-color: #800000\">│</span>\n",
       "<span style=\"color: #800000; text-decoration-color: #800000\">│</span> <span style=\"color: #800000; text-decoration-color: #800000\">❱ </span>2792 <span style=\"color: #7f7f7f; text-decoration-color: #7f7f7f\">│   │   </span><span style=\"color: #0000ff; text-decoration-color: #0000ff\">return</span> <span style=\"color: #00ffff; text-decoration-color: #00ffff\">self</span>._getitem(key)                                                         <span style=\"color: #800000; text-decoration-color: #800000\">│</span>\n",
       "<span style=\"color: #800000; text-decoration-color: #800000\">│</span>   <span style=\"color: #7f7f7f; text-decoration-color: #7f7f7f\">2793 </span><span style=\"color: #7f7f7f; text-decoration-color: #7f7f7f\">│   </span>                                                                                      <span style=\"color: #800000; text-decoration-color: #800000\">│</span>\n",
       "<span style=\"color: #800000; text-decoration-color: #800000\">│</span>   <span style=\"color: #7f7f7f; text-decoration-color: #7f7f7f\">2794 </span><span style=\"color: #7f7f7f; text-decoration-color: #7f7f7f\">│   </span><span style=\"color: #0000ff; text-decoration-color: #0000ff\">def</span> <span style=\"color: #00ff00; text-decoration-color: #00ff00\">__getitems__</span>(<span style=\"color: #00ffff; text-decoration-color: #00ffff\">self</span>, keys: List) -&gt; List:                                           <span style=\"color: #800000; text-decoration-color: #800000\">│</span>\n",
       "<span style=\"color: #800000; text-decoration-color: #800000\">│</span>   <span style=\"color: #7f7f7f; text-decoration-color: #7f7f7f\">2795 </span><span style=\"color: #bfbfbf; text-decoration-color: #bfbfbf\">│   │   </span><span style=\"color: #808000; text-decoration-color: #808000\">\"\"\"Can be used to get a batch using a list of integers indices.\"\"\"</span>                <span style=\"color: #800000; text-decoration-color: #800000\">│</span>\n",
       "<span style=\"color: #800000; text-decoration-color: #800000\">│</span>                                                                                                  <span style=\"color: #800000; text-decoration-color: #800000\">│</span>\n",
       "<span style=\"color: #800000; text-decoration-color: #800000\">│</span> <span style=\"color: #bfbf7f; text-decoration-color: #bfbf7f\">/home/miislam/.local/lib/python3.7/site-packages/datasets/</span><span style=\"color: #808000; text-decoration-color: #808000; font-weight: bold\">arrow_dataset.py</span>:<span style=\"color: #0000ff; text-decoration-color: #0000ff\">2778</span> in <span style=\"color: #00ff00; text-decoration-color: #00ff00\">_getitem</span>      <span style=\"color: #800000; text-decoration-color: #800000\">│</span>\n",
       "<span style=\"color: #800000; text-decoration-color: #800000\">│</span>                                                                                                  <span style=\"color: #800000; text-decoration-color: #800000\">│</span>\n",
       "<span style=\"color: #800000; text-decoration-color: #800000\">│</span>   <span style=\"color: #7f7f7f; text-decoration-color: #7f7f7f\">2775 </span><span style=\"color: #7f7f7f; text-decoration-color: #7f7f7f\">│   │   </span>formatter = get_formatter(format_type, features=<span style=\"color: #00ffff; text-decoration-color: #00ffff\">self</span>._info.features, **format_kw  <span style=\"color: #800000; text-decoration-color: #800000\">│</span>\n",
       "<span style=\"color: #800000; text-decoration-color: #800000\">│</span>   <span style=\"color: #7f7f7f; text-decoration-color: #7f7f7f\">2776 </span><span style=\"color: #7f7f7f; text-decoration-color: #7f7f7f\">│   │   </span>pa_subtable = query_table(<span style=\"color: #00ffff; text-decoration-color: #00ffff\">self</span>._data, key, indices=<span style=\"color: #00ffff; text-decoration-color: #00ffff\">self</span>._indices <span style=\"color: #0000ff; text-decoration-color: #0000ff\">if</span> <span style=\"color: #00ffff; text-decoration-color: #00ffff\">self</span>._indice  <span style=\"color: #800000; text-decoration-color: #800000\">│</span>\n",
       "<span style=\"color: #800000; text-decoration-color: #800000\">│</span>   <span style=\"color: #7f7f7f; text-decoration-color: #7f7f7f\">2777 </span><span style=\"color: #7f7f7f; text-decoration-color: #7f7f7f\">│   │   </span>formatted_output = format_table(                                                  <span style=\"color: #800000; text-decoration-color: #800000\">│</span>\n",
       "<span style=\"color: #800000; text-decoration-color: #800000\">│</span> <span style=\"color: #800000; text-decoration-color: #800000\">❱ </span>2778 <span style=\"color: #7f7f7f; text-decoration-color: #7f7f7f\">│   │   │   </span>pa_subtable, key, formatter=formatter, format_columns=format_columns, output  <span style=\"color: #800000; text-decoration-color: #800000\">│</span>\n",
       "<span style=\"color: #800000; text-decoration-color: #800000\">│</span>   <span style=\"color: #7f7f7f; text-decoration-color: #7f7f7f\">2779 </span><span style=\"color: #7f7f7f; text-decoration-color: #7f7f7f\">│   │   </span>)                                                                                 <span style=\"color: #800000; text-decoration-color: #800000\">│</span>\n",
       "<span style=\"color: #800000; text-decoration-color: #800000\">│</span>   <span style=\"color: #7f7f7f; text-decoration-color: #7f7f7f\">2780 </span><span style=\"color: #7f7f7f; text-decoration-color: #7f7f7f\">│   │   </span><span style=\"color: #0000ff; text-decoration-color: #0000ff\">return</span> formatted_output                                                           <span style=\"color: #800000; text-decoration-color: #800000\">│</span>\n",
       "<span style=\"color: #800000; text-decoration-color: #800000\">│</span>   <span style=\"color: #7f7f7f; text-decoration-color: #7f7f7f\">2781 </span>                                                                                          <span style=\"color: #800000; text-decoration-color: #800000\">│</span>\n",
       "<span style=\"color: #800000; text-decoration-color: #800000\">│</span>                                                                                                  <span style=\"color: #800000; text-decoration-color: #800000\">│</span>\n",
       "<span style=\"color: #800000; text-decoration-color: #800000\">│</span> <span style=\"color: #bfbf7f; text-decoration-color: #bfbf7f\">/home/miislam/.local/lib/python3.7/site-packages/datasets/formatting/</span><span style=\"color: #808000; text-decoration-color: #808000; font-weight: bold\">formatting.py</span>:<span style=\"color: #0000ff; text-decoration-color: #0000ff\">629</span> in        <span style=\"color: #800000; text-decoration-color: #800000\">│</span>\n",
       "<span style=\"color: #800000; text-decoration-color: #800000\">│</span> <span style=\"color: #00ff00; text-decoration-color: #00ff00\">format_table</span>                                                                                     <span style=\"color: #800000; text-decoration-color: #800000\">│</span>\n",
       "<span style=\"color: #800000; text-decoration-color: #800000\">│</span>                                                                                                  <span style=\"color: #800000; text-decoration-color: #800000\">│</span>\n",
       "<span style=\"color: #800000; text-decoration-color: #800000\">│</span>   <span style=\"color: #7f7f7f; text-decoration-color: #7f7f7f\">626 </span><span style=\"color: #7f7f7f; text-decoration-color: #7f7f7f\">│   </span>query_type = key_to_query_type(key)                                                    <span style=\"color: #800000; text-decoration-color: #800000\">│</span>\n",
       "<span style=\"color: #800000; text-decoration-color: #800000\">│</span>   <span style=\"color: #7f7f7f; text-decoration-color: #7f7f7f\">627 </span><span style=\"color: #7f7f7f; text-decoration-color: #7f7f7f\">│   </span>python_formatter = PythonFormatter(features=<span style=\"color: #0000ff; text-decoration-color: #0000ff\">None</span>)                                      <span style=\"color: #800000; text-decoration-color: #800000\">│</span>\n",
       "<span style=\"color: #800000; text-decoration-color: #800000\">│</span>   <span style=\"color: #7f7f7f; text-decoration-color: #7f7f7f\">628 </span><span style=\"color: #7f7f7f; text-decoration-color: #7f7f7f\">│   </span><span style=\"color: #0000ff; text-decoration-color: #0000ff\">if</span> format_columns <span style=\"color: #ff00ff; text-decoration-color: #ff00ff\">is</span> <span style=\"color: #0000ff; text-decoration-color: #0000ff\">None</span>:                                                             <span style=\"color: #800000; text-decoration-color: #800000\">│</span>\n",
       "<span style=\"color: #800000; text-decoration-color: #800000\">│</span> <span style=\"color: #800000; text-decoration-color: #800000\">❱ </span>629 <span style=\"color: #7f7f7f; text-decoration-color: #7f7f7f\">│   │   </span><span style=\"color: #0000ff; text-decoration-color: #0000ff\">return</span> formatter(pa_table, query_type=query_type)                                  <span style=\"color: #800000; text-decoration-color: #800000\">│</span>\n",
       "<span style=\"color: #800000; text-decoration-color: #800000\">│</span>   <span style=\"color: #7f7f7f; text-decoration-color: #7f7f7f\">630 </span><span style=\"color: #7f7f7f; text-decoration-color: #7f7f7f\">│   </span><span style=\"color: #0000ff; text-decoration-color: #0000ff\">elif</span> query_type == <span style=\"color: #808000; text-decoration-color: #808000\">\"column\"</span>:                                                           <span style=\"color: #800000; text-decoration-color: #800000\">│</span>\n",
       "<span style=\"color: #800000; text-decoration-color: #800000\">│</span>   <span style=\"color: #7f7f7f; text-decoration-color: #7f7f7f\">631 </span><span style=\"color: #7f7f7f; text-decoration-color: #7f7f7f\">│   │   </span><span style=\"color: #0000ff; text-decoration-color: #0000ff\">if</span> key <span style=\"color: #ff00ff; text-decoration-color: #ff00ff\">in</span> format_columns:                                                          <span style=\"color: #800000; text-decoration-color: #800000\">│</span>\n",
       "<span style=\"color: #800000; text-decoration-color: #800000\">│</span>   <span style=\"color: #7f7f7f; text-decoration-color: #7f7f7f\">632 </span><span style=\"color: #7f7f7f; text-decoration-color: #7f7f7f\">│   │   │   </span><span style=\"color: #0000ff; text-decoration-color: #0000ff\">return</span> formatter(pa_table, query_type)                                         <span style=\"color: #800000; text-decoration-color: #800000\">│</span>\n",
       "<span style=\"color: #800000; text-decoration-color: #800000\">│</span>                                                                                                  <span style=\"color: #800000; text-decoration-color: #800000\">│</span>\n",
       "<span style=\"color: #800000; text-decoration-color: #800000\">│</span> <span style=\"color: #bfbf7f; text-decoration-color: #bfbf7f\">/home/miislam/.local/lib/python3.7/site-packages/datasets/formatting/</span><span style=\"color: #808000; text-decoration-color: #808000; font-weight: bold\">formatting.py</span>:<span style=\"color: #0000ff; text-decoration-color: #0000ff\">398</span> in        <span style=\"color: #800000; text-decoration-color: #800000\">│</span>\n",
       "<span style=\"color: #800000; text-decoration-color: #800000\">│</span> <span style=\"color: #00ff00; text-decoration-color: #00ff00\">__call__</span>                                                                                         <span style=\"color: #800000; text-decoration-color: #800000\">│</span>\n",
       "<span style=\"color: #800000; text-decoration-color: #800000\">│</span>                                                                                                  <span style=\"color: #800000; text-decoration-color: #800000\">│</span>\n",
       "<span style=\"color: #800000; text-decoration-color: #800000\">│</span>   <span style=\"color: #7f7f7f; text-decoration-color: #7f7f7f\">395 </span><span style=\"color: #7f7f7f; text-decoration-color: #7f7f7f\">│   │   </span><span style=\"color: #0000ff; text-decoration-color: #0000ff\">if</span> query_type == <span style=\"color: #808000; text-decoration-color: #808000\">\"row\"</span>:                                                            <span style=\"color: #800000; text-decoration-color: #800000\">│</span>\n",
       "<span style=\"color: #800000; text-decoration-color: #800000\">│</span>   <span style=\"color: #7f7f7f; text-decoration-color: #7f7f7f\">396 </span><span style=\"color: #7f7f7f; text-decoration-color: #7f7f7f\">│   │   │   </span><span style=\"color: #0000ff; text-decoration-color: #0000ff\">return</span> <span style=\"color: #00ffff; text-decoration-color: #00ffff\">self</span>.format_row(pa_table)                                               <span style=\"color: #800000; text-decoration-color: #800000\">│</span>\n",
       "<span style=\"color: #800000; text-decoration-color: #800000\">│</span>   <span style=\"color: #7f7f7f; text-decoration-color: #7f7f7f\">397 </span><span style=\"color: #7f7f7f; text-decoration-color: #7f7f7f\">│   │   </span><span style=\"color: #0000ff; text-decoration-color: #0000ff\">elif</span> query_type == <span style=\"color: #808000; text-decoration-color: #808000\">\"column\"</span>:                                                       <span style=\"color: #800000; text-decoration-color: #800000\">│</span>\n",
       "<span style=\"color: #800000; text-decoration-color: #800000\">│</span> <span style=\"color: #800000; text-decoration-color: #800000\">❱ </span>398 <span style=\"color: #7f7f7f; text-decoration-color: #7f7f7f\">│   │   │   </span><span style=\"color: #0000ff; text-decoration-color: #0000ff\">return</span> <span style=\"color: #00ffff; text-decoration-color: #00ffff\">self</span>.format_column(pa_table)                                            <span style=\"color: #800000; text-decoration-color: #800000\">│</span>\n",
       "<span style=\"color: #800000; text-decoration-color: #800000\">│</span>   <span style=\"color: #7f7f7f; text-decoration-color: #7f7f7f\">399 </span><span style=\"color: #7f7f7f; text-decoration-color: #7f7f7f\">│   │   </span><span style=\"color: #0000ff; text-decoration-color: #0000ff\">elif</span> query_type == <span style=\"color: #808000; text-decoration-color: #808000\">\"batch\"</span>:                                                        <span style=\"color: #800000; text-decoration-color: #800000\">│</span>\n",
       "<span style=\"color: #800000; text-decoration-color: #800000\">│</span>   <span style=\"color: #7f7f7f; text-decoration-color: #7f7f7f\">400 </span><span style=\"color: #7f7f7f; text-decoration-color: #7f7f7f\">│   │   │   </span><span style=\"color: #0000ff; text-decoration-color: #0000ff\">return</span> <span style=\"color: #00ffff; text-decoration-color: #00ffff\">self</span>.format_batch(pa_table)                                             <span style=\"color: #800000; text-decoration-color: #800000\">│</span>\n",
       "<span style=\"color: #800000; text-decoration-color: #800000\">│</span>   <span style=\"color: #7f7f7f; text-decoration-color: #7f7f7f\">401 </span>                                                                                           <span style=\"color: #800000; text-decoration-color: #800000\">│</span>\n",
       "<span style=\"color: #800000; text-decoration-color: #800000\">│</span>                                                                                                  <span style=\"color: #800000; text-decoration-color: #800000\">│</span>\n",
       "<span style=\"color: #800000; text-decoration-color: #800000\">│</span> <span style=\"color: #bfbf7f; text-decoration-color: #bfbf7f\">/home/miislam/.local/lib/python3.7/site-packages/datasets/formatting/</span><span style=\"color: #808000; text-decoration-color: #808000; font-weight: bold\">formatting.py</span>:<span style=\"color: #0000ff; text-decoration-color: #0000ff\">441</span> in        <span style=\"color: #800000; text-decoration-color: #800000\">│</span>\n",
       "<span style=\"color: #800000; text-decoration-color: #800000\">│</span> <span style=\"color: #00ff00; text-decoration-color: #00ff00\">format_column</span>                                                                                    <span style=\"color: #800000; text-decoration-color: #800000\">│</span>\n",
       "<span style=\"color: #800000; text-decoration-color: #800000\">│</span>                                                                                                  <span style=\"color: #800000; text-decoration-color: #800000\">│</span>\n",
       "<span style=\"color: #800000; text-decoration-color: #800000\">│</span>   <span style=\"color: #7f7f7f; text-decoration-color: #7f7f7f\">438 </span><span style=\"color: #7f7f7f; text-decoration-color: #7f7f7f\">│   │   </span><span style=\"color: #0000ff; text-decoration-color: #0000ff\">return</span> row                                                                         <span style=\"color: #800000; text-decoration-color: #800000\">│</span>\n",
       "<span style=\"color: #800000; text-decoration-color: #800000\">│</span>   <span style=\"color: #7f7f7f; text-decoration-color: #7f7f7f\">439 </span><span style=\"color: #7f7f7f; text-decoration-color: #7f7f7f\">│   </span>                                                                                       <span style=\"color: #800000; text-decoration-color: #800000\">│</span>\n",
       "<span style=\"color: #800000; text-decoration-color: #800000\">│</span>   <span style=\"color: #7f7f7f; text-decoration-color: #7f7f7f\">440 </span><span style=\"color: #7f7f7f; text-decoration-color: #7f7f7f\">│   </span><span style=\"color: #0000ff; text-decoration-color: #0000ff\">def</span> <span style=\"color: #00ff00; text-decoration-color: #00ff00\">format_column</span>(<span style=\"color: #00ffff; text-decoration-color: #00ffff\">self</span>, pa_table: pa.Table) -&gt; <span style=\"color: #00ffff; text-decoration-color: #00ffff\">list</span>:                                   <span style=\"color: #800000; text-decoration-color: #800000\">│</span>\n",
       "<span style=\"color: #800000; text-decoration-color: #800000\">│</span> <span style=\"color: #800000; text-decoration-color: #800000\">❱ </span>441 <span style=\"color: #7f7f7f; text-decoration-color: #7f7f7f\">│   │   </span>column = <span style=\"color: #00ffff; text-decoration-color: #00ffff\">self</span>.python_arrow_extractor().extract_column(pa_table)                    <span style=\"color: #800000; text-decoration-color: #800000\">│</span>\n",
       "<span style=\"color: #800000; text-decoration-color: #800000\">│</span>   <span style=\"color: #7f7f7f; text-decoration-color: #7f7f7f\">442 </span><span style=\"color: #7f7f7f; text-decoration-color: #7f7f7f\">│   │   </span>column = <span style=\"color: #00ffff; text-decoration-color: #00ffff\">self</span>.python_features_decoder.decode_column(column, pa_table.column_name   <span style=\"color: #800000; text-decoration-color: #800000\">│</span>\n",
       "<span style=\"color: #800000; text-decoration-color: #800000\">│</span>   <span style=\"color: #7f7f7f; text-decoration-color: #7f7f7f\">443 </span><span style=\"color: #7f7f7f; text-decoration-color: #7f7f7f\">│   │   </span><span style=\"color: #0000ff; text-decoration-color: #0000ff\">return</span> column                                                                      <span style=\"color: #800000; text-decoration-color: #800000\">│</span>\n",
       "<span style=\"color: #800000; text-decoration-color: #800000\">│</span>   <span style=\"color: #7f7f7f; text-decoration-color: #7f7f7f\">444 </span>                                                                                           <span style=\"color: #800000; text-decoration-color: #800000\">│</span>\n",
       "<span style=\"color: #800000; text-decoration-color: #800000\">│</span>                                                                                                  <span style=\"color: #800000; text-decoration-color: #800000\">│</span>\n",
       "<span style=\"color: #800000; text-decoration-color: #800000\">│</span> <span style=\"color: #bfbf7f; text-decoration-color: #bfbf7f\">/home/miislam/.local/lib/python3.7/site-packages/datasets/formatting/</span><span style=\"color: #808000; text-decoration-color: #808000; font-weight: bold\">formatting.py</span>:<span style=\"color: #0000ff; text-decoration-color: #0000ff\">147</span> in        <span style=\"color: #800000; text-decoration-color: #800000\">│</span>\n",
       "<span style=\"color: #800000; text-decoration-color: #800000\">│</span> <span style=\"color: #00ff00; text-decoration-color: #00ff00\">extract_column</span>                                                                                   <span style=\"color: #800000; text-decoration-color: #800000\">│</span>\n",
       "<span style=\"color: #800000; text-decoration-color: #800000\">│</span>                                                                                                  <span style=\"color: #800000; text-decoration-color: #800000\">│</span>\n",
       "<span style=\"color: #800000; text-decoration-color: #800000\">│</span>   <span style=\"color: #7f7f7f; text-decoration-color: #7f7f7f\">144 </span><span style=\"color: #7f7f7f; text-decoration-color: #7f7f7f\">│   │   </span><span style=\"color: #0000ff; text-decoration-color: #0000ff\">return</span> _unnest(pa_table.to_pydict())                                               <span style=\"color: #800000; text-decoration-color: #800000\">│</span>\n",
       "<span style=\"color: #800000; text-decoration-color: #800000\">│</span>   <span style=\"color: #7f7f7f; text-decoration-color: #7f7f7f\">145 </span><span style=\"color: #7f7f7f; text-decoration-color: #7f7f7f\">│   </span>                                                                                       <span style=\"color: #800000; text-decoration-color: #800000\">│</span>\n",
       "<span style=\"color: #800000; text-decoration-color: #800000\">│</span>   <span style=\"color: #7f7f7f; text-decoration-color: #7f7f7f\">146 </span><span style=\"color: #7f7f7f; text-decoration-color: #7f7f7f\">│   </span><span style=\"color: #0000ff; text-decoration-color: #0000ff\">def</span> <span style=\"color: #00ff00; text-decoration-color: #00ff00\">extract_column</span>(<span style=\"color: #00ffff; text-decoration-color: #00ffff\">self</span>, pa_table: pa.Table) -&gt; <span style=\"color: #00ffff; text-decoration-color: #00ffff\">list</span>:                                  <span style=\"color: #800000; text-decoration-color: #800000\">│</span>\n",
       "<span style=\"color: #800000; text-decoration-color: #800000\">│</span> <span style=\"color: #800000; text-decoration-color: #800000\">❱ </span>147 <span style=\"color: #7f7f7f; text-decoration-color: #7f7f7f\">│   │   </span><span style=\"color: #0000ff; text-decoration-color: #0000ff\">return</span> pa_table.column(<span style=\"color: #0000ff; text-decoration-color: #0000ff\">0</span>).to_pylist()                                              <span style=\"color: #800000; text-decoration-color: #800000\">│</span>\n",
       "<span style=\"color: #800000; text-decoration-color: #800000\">│</span>   <span style=\"color: #7f7f7f; text-decoration-color: #7f7f7f\">148 </span><span style=\"color: #7f7f7f; text-decoration-color: #7f7f7f\">│   </span>                                                                                       <span style=\"color: #800000; text-decoration-color: #800000\">│</span>\n",
       "<span style=\"color: #800000; text-decoration-color: #800000\">│</span>   <span style=\"color: #7f7f7f; text-decoration-color: #7f7f7f\">149 </span><span style=\"color: #7f7f7f; text-decoration-color: #7f7f7f\">│   </span><span style=\"color: #0000ff; text-decoration-color: #0000ff\">def</span> <span style=\"color: #00ff00; text-decoration-color: #00ff00\">extract_batch</span>(<span style=\"color: #00ffff; text-decoration-color: #00ffff\">self</span>, pa_table: pa.Table) -&gt; <span style=\"color: #00ffff; text-decoration-color: #00ffff\">dict</span>:                                   <span style=\"color: #800000; text-decoration-color: #800000\">│</span>\n",
       "<span style=\"color: #800000; text-decoration-color: #800000\">│</span>   <span style=\"color: #7f7f7f; text-decoration-color: #7f7f7f\">150 </span><span style=\"color: #7f7f7f; text-decoration-color: #7f7f7f\">│   │   </span><span style=\"color: #0000ff; text-decoration-color: #0000ff\">return</span> pa_table.to_pydict()                                                        <span style=\"color: #800000; text-decoration-color: #800000\">│</span>\n",
       "<span style=\"color: #800000; text-decoration-color: #800000\">╰──────────────────────────────────────────────────────────────────────────────────────────────────╯</span>\n",
       "<span style=\"color: #ff0000; text-decoration-color: #ff0000; font-weight: bold\">KeyboardInterrupt</span>\n",
       "</pre>\n"
      ],
      "text/plain": [
       "\u001b[31m╭─\u001b[0m\u001b[31m──────────────────────────────\u001b[0m\u001b[31m \u001b[0m\u001b[1;31mTraceback \u001b[0m\u001b[1;2;31m(most recent call last)\u001b[0m\u001b[31m \u001b[0m\u001b[31m───────────────────────────────\u001b[0m\u001b[31m─╮\u001b[0m\n",
       "\u001b[31m│\u001b[0m in \u001b[92m<module>\u001b[0m:\u001b[94m19\u001b[0m                                                                                   \u001b[31m│\u001b[0m\n",
       "\u001b[31m│\u001b[0m                                                                                                  \u001b[31m│\u001b[0m\n",
       "\u001b[31m│\u001b[0m   \u001b[2m16 \u001b[0m\u001b[2m│   \u001b[0m\u001b[94mreturn\u001b[0m \u001b[33m\"\u001b[0m\u001b[33m \u001b[0m\u001b[33m\"\u001b[0m.join(converted_lines)                                                        \u001b[31m│\u001b[0m\n",
       "\u001b[31m│\u001b[0m   \u001b[2m17 \u001b[0m\u001b[96mprint\u001b[0m(convert_indentation_to_tabs(df[\u001b[33m'\u001b[0m\u001b[33mcleaned_method\u001b[0m\u001b[33m'\u001b[0m][\u001b[94m0\u001b[0m]))                                 \u001b[31m│\u001b[0m\n",
       "\u001b[31m│\u001b[0m   \u001b[2m18 \u001b[0m\u001b[94mfor\u001b[0m i \u001b[95min\u001b[0m \u001b[96mrange\u001b[0m(\u001b[96mlen\u001b[0m(dataset)):                                                               \u001b[31m│\u001b[0m\n",
       "\u001b[31m│\u001b[0m \u001b[31m❱ \u001b[0m19 \u001b[2m  \u001b[0mdataset[\u001b[33m'\u001b[0m\u001b[33mcleaned_method\u001b[0m\u001b[33m'\u001b[0m][i] = convert_indentation_to_tabs(dataset[\u001b[33m'\u001b[0m\u001b[33mcleaned_method\u001b[0m\u001b[33m'\u001b[0m][i    \u001b[31m│\u001b[0m\n",
       "\u001b[31m│\u001b[0m   \u001b[2m20 \u001b[0m                                                                                            \u001b[31m│\u001b[0m\n",
       "\u001b[31m│\u001b[0m                                                                                                  \u001b[31m│\u001b[0m\n",
       "\u001b[31m│\u001b[0m \u001b[2;33m/home/miislam/.local/lib/python3.7/site-packages/datasets/\u001b[0m\u001b[1;33marrow_dataset.py\u001b[0m:\u001b[94m2792\u001b[0m in \u001b[92m__getitem__\u001b[0m   \u001b[31m│\u001b[0m\n",
       "\u001b[31m│\u001b[0m                                                                                                  \u001b[31m│\u001b[0m\n",
       "\u001b[31m│\u001b[0m   \u001b[2m2789 \u001b[0m\u001b[2m│   \u001b[0m                                                                                      \u001b[31m│\u001b[0m\n",
       "\u001b[31m│\u001b[0m   \u001b[2m2790 \u001b[0m\u001b[2m│   \u001b[0m\u001b[94mdef\u001b[0m \u001b[92m__getitem__\u001b[0m(\u001b[96mself\u001b[0m, key):  \u001b[2m# noqa: F811\u001b[0m                                             \u001b[31m│\u001b[0m\n",
       "\u001b[31m│\u001b[0m   \u001b[2m2791 \u001b[0m\u001b[2;90m│   │   \u001b[0m\u001b[33m\"\"\"Can be used to index columns (by string names) or rows (by integer index or i\u001b[0m  \u001b[31m│\u001b[0m\n",
       "\u001b[31m│\u001b[0m \u001b[31m❱ \u001b[0m2792 \u001b[2m│   │   \u001b[0m\u001b[94mreturn\u001b[0m \u001b[96mself\u001b[0m._getitem(key)                                                         \u001b[31m│\u001b[0m\n",
       "\u001b[31m│\u001b[0m   \u001b[2m2793 \u001b[0m\u001b[2m│   \u001b[0m                                                                                      \u001b[31m│\u001b[0m\n",
       "\u001b[31m│\u001b[0m   \u001b[2m2794 \u001b[0m\u001b[2m│   \u001b[0m\u001b[94mdef\u001b[0m \u001b[92m__getitems__\u001b[0m(\u001b[96mself\u001b[0m, keys: List) -> List:                                           \u001b[31m│\u001b[0m\n",
       "\u001b[31m│\u001b[0m   \u001b[2m2795 \u001b[0m\u001b[2;90m│   │   \u001b[0m\u001b[33m\"\"\"Can be used to get a batch using a list of integers indices.\"\"\"\u001b[0m                \u001b[31m│\u001b[0m\n",
       "\u001b[31m│\u001b[0m                                                                                                  \u001b[31m│\u001b[0m\n",
       "\u001b[31m│\u001b[0m \u001b[2;33m/home/miislam/.local/lib/python3.7/site-packages/datasets/\u001b[0m\u001b[1;33marrow_dataset.py\u001b[0m:\u001b[94m2778\u001b[0m in \u001b[92m_getitem\u001b[0m      \u001b[31m│\u001b[0m\n",
       "\u001b[31m│\u001b[0m                                                                                                  \u001b[31m│\u001b[0m\n",
       "\u001b[31m│\u001b[0m   \u001b[2m2775 \u001b[0m\u001b[2m│   │   \u001b[0mformatter = get_formatter(format_type, features=\u001b[96mself\u001b[0m._info.features, **format_kw  \u001b[31m│\u001b[0m\n",
       "\u001b[31m│\u001b[0m   \u001b[2m2776 \u001b[0m\u001b[2m│   │   \u001b[0mpa_subtable = query_table(\u001b[96mself\u001b[0m._data, key, indices=\u001b[96mself\u001b[0m._indices \u001b[94mif\u001b[0m \u001b[96mself\u001b[0m._indice  \u001b[31m│\u001b[0m\n",
       "\u001b[31m│\u001b[0m   \u001b[2m2777 \u001b[0m\u001b[2m│   │   \u001b[0mformatted_output = format_table(                                                  \u001b[31m│\u001b[0m\n",
       "\u001b[31m│\u001b[0m \u001b[31m❱ \u001b[0m2778 \u001b[2m│   │   │   \u001b[0mpa_subtable, key, formatter=formatter, format_columns=format_columns, output  \u001b[31m│\u001b[0m\n",
       "\u001b[31m│\u001b[0m   \u001b[2m2779 \u001b[0m\u001b[2m│   │   \u001b[0m)                                                                                 \u001b[31m│\u001b[0m\n",
       "\u001b[31m│\u001b[0m   \u001b[2m2780 \u001b[0m\u001b[2m│   │   \u001b[0m\u001b[94mreturn\u001b[0m formatted_output                                                           \u001b[31m│\u001b[0m\n",
       "\u001b[31m│\u001b[0m   \u001b[2m2781 \u001b[0m                                                                                          \u001b[31m│\u001b[0m\n",
       "\u001b[31m│\u001b[0m                                                                                                  \u001b[31m│\u001b[0m\n",
       "\u001b[31m│\u001b[0m \u001b[2;33m/home/miislam/.local/lib/python3.7/site-packages/datasets/formatting/\u001b[0m\u001b[1;33mformatting.py\u001b[0m:\u001b[94m629\u001b[0m in        \u001b[31m│\u001b[0m\n",
       "\u001b[31m│\u001b[0m \u001b[92mformat_table\u001b[0m                                                                                     \u001b[31m│\u001b[0m\n",
       "\u001b[31m│\u001b[0m                                                                                                  \u001b[31m│\u001b[0m\n",
       "\u001b[31m│\u001b[0m   \u001b[2m626 \u001b[0m\u001b[2m│   \u001b[0mquery_type = key_to_query_type(key)                                                    \u001b[31m│\u001b[0m\n",
       "\u001b[31m│\u001b[0m   \u001b[2m627 \u001b[0m\u001b[2m│   \u001b[0mpython_formatter = PythonFormatter(features=\u001b[94mNone\u001b[0m)                                      \u001b[31m│\u001b[0m\n",
       "\u001b[31m│\u001b[0m   \u001b[2m628 \u001b[0m\u001b[2m│   \u001b[0m\u001b[94mif\u001b[0m format_columns \u001b[95mis\u001b[0m \u001b[94mNone\u001b[0m:                                                             \u001b[31m│\u001b[0m\n",
       "\u001b[31m│\u001b[0m \u001b[31m❱ \u001b[0m629 \u001b[2m│   │   \u001b[0m\u001b[94mreturn\u001b[0m formatter(pa_table, query_type=query_type)                                  \u001b[31m│\u001b[0m\n",
       "\u001b[31m│\u001b[0m   \u001b[2m630 \u001b[0m\u001b[2m│   \u001b[0m\u001b[94melif\u001b[0m query_type == \u001b[33m\"\u001b[0m\u001b[33mcolumn\u001b[0m\u001b[33m\"\u001b[0m:                                                           \u001b[31m│\u001b[0m\n",
       "\u001b[31m│\u001b[0m   \u001b[2m631 \u001b[0m\u001b[2m│   │   \u001b[0m\u001b[94mif\u001b[0m key \u001b[95min\u001b[0m format_columns:                                                          \u001b[31m│\u001b[0m\n",
       "\u001b[31m│\u001b[0m   \u001b[2m632 \u001b[0m\u001b[2m│   │   │   \u001b[0m\u001b[94mreturn\u001b[0m formatter(pa_table, query_type)                                         \u001b[31m│\u001b[0m\n",
       "\u001b[31m│\u001b[0m                                                                                                  \u001b[31m│\u001b[0m\n",
       "\u001b[31m│\u001b[0m \u001b[2;33m/home/miislam/.local/lib/python3.7/site-packages/datasets/formatting/\u001b[0m\u001b[1;33mformatting.py\u001b[0m:\u001b[94m398\u001b[0m in        \u001b[31m│\u001b[0m\n",
       "\u001b[31m│\u001b[0m \u001b[92m__call__\u001b[0m                                                                                         \u001b[31m│\u001b[0m\n",
       "\u001b[31m│\u001b[0m                                                                                                  \u001b[31m│\u001b[0m\n",
       "\u001b[31m│\u001b[0m   \u001b[2m395 \u001b[0m\u001b[2m│   │   \u001b[0m\u001b[94mif\u001b[0m query_type == \u001b[33m\"\u001b[0m\u001b[33mrow\u001b[0m\u001b[33m\"\u001b[0m:                                                            \u001b[31m│\u001b[0m\n",
       "\u001b[31m│\u001b[0m   \u001b[2m396 \u001b[0m\u001b[2m│   │   │   \u001b[0m\u001b[94mreturn\u001b[0m \u001b[96mself\u001b[0m.format_row(pa_table)                                               \u001b[31m│\u001b[0m\n",
       "\u001b[31m│\u001b[0m   \u001b[2m397 \u001b[0m\u001b[2m│   │   \u001b[0m\u001b[94melif\u001b[0m query_type == \u001b[33m\"\u001b[0m\u001b[33mcolumn\u001b[0m\u001b[33m\"\u001b[0m:                                                       \u001b[31m│\u001b[0m\n",
       "\u001b[31m│\u001b[0m \u001b[31m❱ \u001b[0m398 \u001b[2m│   │   │   \u001b[0m\u001b[94mreturn\u001b[0m \u001b[96mself\u001b[0m.format_column(pa_table)                                            \u001b[31m│\u001b[0m\n",
       "\u001b[31m│\u001b[0m   \u001b[2m399 \u001b[0m\u001b[2m│   │   \u001b[0m\u001b[94melif\u001b[0m query_type == \u001b[33m\"\u001b[0m\u001b[33mbatch\u001b[0m\u001b[33m\"\u001b[0m:                                                        \u001b[31m│\u001b[0m\n",
       "\u001b[31m│\u001b[0m   \u001b[2m400 \u001b[0m\u001b[2m│   │   │   \u001b[0m\u001b[94mreturn\u001b[0m \u001b[96mself\u001b[0m.format_batch(pa_table)                                             \u001b[31m│\u001b[0m\n",
       "\u001b[31m│\u001b[0m   \u001b[2m401 \u001b[0m                                                                                           \u001b[31m│\u001b[0m\n",
       "\u001b[31m│\u001b[0m                                                                                                  \u001b[31m│\u001b[0m\n",
       "\u001b[31m│\u001b[0m \u001b[2;33m/home/miislam/.local/lib/python3.7/site-packages/datasets/formatting/\u001b[0m\u001b[1;33mformatting.py\u001b[0m:\u001b[94m441\u001b[0m in        \u001b[31m│\u001b[0m\n",
       "\u001b[31m│\u001b[0m \u001b[92mformat_column\u001b[0m                                                                                    \u001b[31m│\u001b[0m\n",
       "\u001b[31m│\u001b[0m                                                                                                  \u001b[31m│\u001b[0m\n",
       "\u001b[31m│\u001b[0m   \u001b[2m438 \u001b[0m\u001b[2m│   │   \u001b[0m\u001b[94mreturn\u001b[0m row                                                                         \u001b[31m│\u001b[0m\n",
       "\u001b[31m│\u001b[0m   \u001b[2m439 \u001b[0m\u001b[2m│   \u001b[0m                                                                                       \u001b[31m│\u001b[0m\n",
       "\u001b[31m│\u001b[0m   \u001b[2m440 \u001b[0m\u001b[2m│   \u001b[0m\u001b[94mdef\u001b[0m \u001b[92mformat_column\u001b[0m(\u001b[96mself\u001b[0m, pa_table: pa.Table) -> \u001b[96mlist\u001b[0m:                                   \u001b[31m│\u001b[0m\n",
       "\u001b[31m│\u001b[0m \u001b[31m❱ \u001b[0m441 \u001b[2m│   │   \u001b[0mcolumn = \u001b[96mself\u001b[0m.python_arrow_extractor().extract_column(pa_table)                    \u001b[31m│\u001b[0m\n",
       "\u001b[31m│\u001b[0m   \u001b[2m442 \u001b[0m\u001b[2m│   │   \u001b[0mcolumn = \u001b[96mself\u001b[0m.python_features_decoder.decode_column(column, pa_table.column_name   \u001b[31m│\u001b[0m\n",
       "\u001b[31m│\u001b[0m   \u001b[2m443 \u001b[0m\u001b[2m│   │   \u001b[0m\u001b[94mreturn\u001b[0m column                                                                      \u001b[31m│\u001b[0m\n",
       "\u001b[31m│\u001b[0m   \u001b[2m444 \u001b[0m                                                                                           \u001b[31m│\u001b[0m\n",
       "\u001b[31m│\u001b[0m                                                                                                  \u001b[31m│\u001b[0m\n",
       "\u001b[31m│\u001b[0m \u001b[2;33m/home/miislam/.local/lib/python3.7/site-packages/datasets/formatting/\u001b[0m\u001b[1;33mformatting.py\u001b[0m:\u001b[94m147\u001b[0m in        \u001b[31m│\u001b[0m\n",
       "\u001b[31m│\u001b[0m \u001b[92mextract_column\u001b[0m                                                                                   \u001b[31m│\u001b[0m\n",
       "\u001b[31m│\u001b[0m                                                                                                  \u001b[31m│\u001b[0m\n",
       "\u001b[31m│\u001b[0m   \u001b[2m144 \u001b[0m\u001b[2m│   │   \u001b[0m\u001b[94mreturn\u001b[0m _unnest(pa_table.to_pydict())                                               \u001b[31m│\u001b[0m\n",
       "\u001b[31m│\u001b[0m   \u001b[2m145 \u001b[0m\u001b[2m│   \u001b[0m                                                                                       \u001b[31m│\u001b[0m\n",
       "\u001b[31m│\u001b[0m   \u001b[2m146 \u001b[0m\u001b[2m│   \u001b[0m\u001b[94mdef\u001b[0m \u001b[92mextract_column\u001b[0m(\u001b[96mself\u001b[0m, pa_table: pa.Table) -> \u001b[96mlist\u001b[0m:                                  \u001b[31m│\u001b[0m\n",
       "\u001b[31m│\u001b[0m \u001b[31m❱ \u001b[0m147 \u001b[2m│   │   \u001b[0m\u001b[94mreturn\u001b[0m pa_table.column(\u001b[94m0\u001b[0m).to_pylist()                                              \u001b[31m│\u001b[0m\n",
       "\u001b[31m│\u001b[0m   \u001b[2m148 \u001b[0m\u001b[2m│   \u001b[0m                                                                                       \u001b[31m│\u001b[0m\n",
       "\u001b[31m│\u001b[0m   \u001b[2m149 \u001b[0m\u001b[2m│   \u001b[0m\u001b[94mdef\u001b[0m \u001b[92mextract_batch\u001b[0m(\u001b[96mself\u001b[0m, pa_table: pa.Table) -> \u001b[96mdict\u001b[0m:                                   \u001b[31m│\u001b[0m\n",
       "\u001b[31m│\u001b[0m   \u001b[2m150 \u001b[0m\u001b[2m│   │   \u001b[0m\u001b[94mreturn\u001b[0m pa_table.to_pydict()                                                        \u001b[31m│\u001b[0m\n",
       "\u001b[31m╰──────────────────────────────────────────────────────────────────────────────────────────────────╯\u001b[0m\n",
       "\u001b[1;91mKeyboardInterrupt\u001b[0m\n"
      ]
     },
     "metadata": {},
     "output_type": "display_data"
    }
   ],
   "source": [
    "def convert_indentation_to_tabs(code):\n",
    "    # Split the code into lines\n",
    "    lines = code.split('\\n')\n",
    "    converted_lines = []\n",
    "\n",
    "    for line in lines:\n",
    "        # Determine the level of indentation (number of leading spaces)\n",
    "        stripped_line = line.lstrip()\n",
    "        indent_level = (len(line) - len(stripped_line)) // 4  # Assuming 4 spaces per indent level\n",
    "\n",
    "        # Replace each indentation level with \"<TAB>\"\n",
    "        tabbed_line = \"<TAB>\" * indent_level + stripped_line\n",
    "        converted_lines.append(tabbed_line)\n",
    "\n",
    "    # Join the lines with a space to match your required format\n",
    "    return \" \".join(converted_lines)\n",
    "print(convert_indentation_to_tabs(df['cleaned_method'][0]))\n",
    "for i in range(len(dataset)):\n",
    "  dataset['cleaned_method'][i] = convert_indentation_to_tabs(dataset['cleaned_method'][i])"
   ]
  },
  {
   "cell_type": "code",
   "execution_count": 49,
   "metadata": {},
   "outputs": [
    {
     "name": "stdout",
     "output_type": "stream",
     "text": [
      "Dataset({\n",
      "    features: ['original_method', 'cleaned_method', 'masked_method', 'condition_line', 'masked_method_token_count', 'condition_token_count', 'flattened_method'],\n",
      "    num_rows: 76940\n",
      "})\n"
     ]
    }
   ],
   "source": [
    "print(dataset)"
   ]
  },
  {
   "cell_type": "code",
   "execution_count": 50,
   "metadata": {},
   "outputs": [],
   "source": [
    "import re\n",
    "import random\n",
    "\n",
    "def mask_if_statements(examples):\n",
    "    # Regular expression pattern to match 'if' conditions from 'if' to the colon\n",
    "    pattern = re.compile(r\"if\\s+(.*?):\")\n",
    "\n",
    "    masked_code = []\n",
    "\n",
    "    for code in examples['cleaned_method']:\n",
    "        # Find all 'if' conditions in the code\n",
    "        matches = list(pattern.finditer(code))\n",
    "\n",
    "        # If no 'if' conditions are found, add the original code to the masked list\n",
    "        if not matches:\n",
    "            masked_code.append(code)\n",
    "            continue\n",
    "\n",
    "        # Randomly select one 'if' condition to mask\n",
    "        selected_match = random.choice(matches)\n",
    "\n",
    "        # Replace the selected 'if' condition with '<fill-in>'\n",
    "        start, end = selected_match.span()\n",
    "        code_with_mask = code[:start] + '<extra_id_0>' + code[end:]\n",
    "        masked_code.append(code_with_mask)\n",
    "\n",
    "    # Return the modified dataset\n",
    "    return {\n",
    "        \"input_text\": masked_code,  # Masked code snippet\n",
    "        \"target_text\": examples['condition_line']  # original unmasked code snippet\n",
    "    }\n",
    "\n",
    "# # Example usage with sample input\n",
    "# examples = {\n",
    "#     'input_method': [\n",
    "#         \"\"\"def example_function():\n",
    "#     if x > 0:\n",
    "#         print(\"Positive\")\n",
    "#     if y < 0:\n",
    "#         print(\"Negative\")\n",
    "#     if z == 10:\n",
    "#         print(\"Equal to ten\")\"\"\"\n",
    "#     ]\n",
    "# }\n",
    "\n",
    "# # Apply the function to mask one random 'if' condition\n",
    "# masked_output = mask_if_statements(examples)\n",
    "# print(masked_output)"
   ]
  },
  {
   "cell_type": "code",
   "execution_count": 51,
   "metadata": {},
   "outputs": [
    {
     "data": {
      "application/vnd.jupyter.widget-view+json": {
       "model_id": "d16c9aeceb634397a9e9a37fe68911ea",
       "version_major": 2,
       "version_minor": 0
      },
      "text/plain": [
       "Map:   0%|          | 0/76940 [00:00<?, ? examples/s]"
      ]
     },
     "metadata": {},
     "output_type": "display_data"
    },
    {
     "name": "stdout",
     "output_type": "stream",
     "text": [
      "Dataset({\n",
      "    features: ['original_method', 'cleaned_method', 'masked_method', 'condition_line', 'masked_method_token_count', 'condition_token_count', 'flattened_method', 'input_text', 'target_text'],\n",
      "    num_rows: 76940\n",
      "})\n"
     ]
    }
   ],
   "source": [
    "# Apply masking to create input-output pairs for T5\n",
    "masked_dataset = dataset.map(mask_if_statements, batched=True)\n",
    "print(masked_dataset)"
   ]
  },
  {
   "cell_type": "code",
   "execution_count": 53,
   "metadata": {},
   "outputs": [
    {
     "name": "stderr",
     "output_type": "stream",
     "text": [
      "Loading cached processed dataset at /home/miislam/.cache/huggingface/datasets/csv/default-f6e583c620e16a3a/0.0.0/eea64c71ca8b46dd3f537ed218fc9bf495d5707789152eb2764f5c78fa66d59d/cache-ab287a2993843994.arrow\n"
     ]
    },
    {
     "data": {
      "application/vnd.jupyter.widget-view+json": {
       "model_id": "e003b1a26c5a4ceca1e2b6b6d4f78fbb",
       "version_major": 2,
       "version_minor": 0
      },
      "text/plain": [
       "Map:   0%|          | 0/75419 [00:00<?, ? examples/s]"
      ]
     },
     "metadata": {},
     "output_type": "display_data"
    }
   ],
   "source": [
    "# Remove rows that contain non-string values in \"target_text\"\n",
    "def filter_invalid_texts(example):\n",
    "    return isinstance(example['target_text'], str)\n",
    "\n",
    "# Apply the filter to the dataset\n",
    "filtered_dataset = masked_dataset.filter(filter_invalid_texts)\n",
    "\n",
    "# Now define the tokenization function again\n",
    "def tokenize_function(examples):\n",
    "    # Extract input and target texts\n",
    "    input_texts = examples[\"input_text\"]\n",
    "    target_texts = examples[\"target_text\"]\n",
    "\n",
    "    # Ensure all target_texts are strings (filtering should have handled this)\n",
    "    assert all(isinstance(text, str) for text in target_texts), \"All elements in target_texts must be strings.\"\n",
    "\n",
    "    # Tokenizing input texts\n",
    "    model_inputs = tokenizer(\n",
    "        input_texts, \n",
    "        padding=\"max_length\", \n",
    "        truncation=True, \n",
    "        max_length=512\n",
    "    )\n",
    "\n",
    "    # Tokenizing target texts for labels\n",
    "    labels = tokenizer(\n",
    "        target_texts, \n",
    "        padding=\"max_length\", \n",
    "        truncation=True, \n",
    "        max_length=512\n",
    "    )[\"input_ids\"]\n",
    "\n",
    "    # Replace padding token id's with -100 for labels\n",
    "    labels = [\n",
    "        [(label if label != tokenizer.pad_token_id else -100) for label in label_list]\n",
    "        for label_list in labels\n",
    "    ]\n",
    "\n",
    "    # Adding the labels to model_inputs\n",
    "    model_inputs[\"labels\"] = labels\n",
    "\n",
    "    return model_inputs\n",
    "\n",
    "# Tokenize the dataset using the corrected function\n",
    "tokenized_datasets = filtered_dataset.map(tokenize_function, batched=True)\n",
    "\n",
    "# Split into train and test sets for training\n",
    "train_test_split = tokenized_datasets.train_test_split(test_size=0.2)\n",
    "train_dataset = train_test_split['train']\n",
    "test_dataset = train_test_split['test']\n",
    "model = AutoModelForSeq2SeqLM.from_pretrained(\"../pretrained_codet5\")\n"
   ]
  },
  {
   "cell_type": "code",
   "execution_count": 54,
   "metadata": {},
   "outputs": [
    {
     "name": "stdout",
     "output_type": "stream",
     "text": [
      "Dataset({\n",
      "    features: ['original_method', 'cleaned_method', 'masked_method', 'condition_line', 'masked_method_token_count', 'condition_token_count', 'flattened_method', 'input_text', 'target_text', 'input_ids', 'attention_mask', 'labels'],\n",
      "    num_rows: 60335\n",
      "}) Dataset({\n",
      "    features: ['original_method', 'cleaned_method', 'masked_method', 'condition_line', 'masked_method_token_count', 'condition_token_count', 'flattened_method', 'input_text', 'target_text', 'input_ids', 'attention_mask', 'labels'],\n",
      "    num_rows: 15084\n",
      "})\n"
     ]
    }
   ],
   "source": [
    "print(train_dataset,test_dataset)"
   ]
  },
  {
   "cell_type": "code",
   "execution_count": 58,
   "metadata": {},
   "outputs": [],
   "source": [
    "# Set up training arguments\n",
    "training_args = TrainingArguments(\n",
    "    output_dir=\"./results\",\n",
    "    evaluation_strategy=\"epoch\",\n",
    "    save_strategy=\"epoch\",\n",
    "    learning_rate=2e-5,\n",
    "    per_device_train_batch_size=8,\n",
    "    per_device_eval_batch_size=8,\n",
    "    num_train_epochs=1,  # Reduced for testing\n",
    "    weight_decay=0.01,\n",
    "    save_total_limit=3,\n",
    ")"
   ]
  },
  {
   "cell_type": "code",
   "execution_count": 64,
   "metadata": {},
   "outputs": [],
   "source": [
    "from datasets import load_metric\n",
    "# Load the metric you want to use (in this case, ROUGE)\n",
    "metric = load_metric(\"rouge\")\n",
    "\n",
    "# Define the compute_metrics function\n",
    "def compute_metrics(eval_pred):\n",
    "    # Extract predictions and labels\n",
    "    predictions, labels = eval_pred\n",
    "\n",
    "    # Decode the predictions and labels to strings\n",
    "    decoded_preds = tokenizer.batch_decode(predictions, skip_special_tokens=True)\n",
    "    decoded_labels = tokenizer.batch_decode(labels, skip_special_tokens=True)\n",
    "\n",
    "    # Use the metric to compute the scores\n",
    "    result = metric.compute(predictions=decoded_preds, references=decoded_labels, use_stemmer=True)\n",
    "\n",
    "    # Calculate the average ROUGE scores and return\n",
    "    # You can also add additional metrics if desired\n",
    "    result = {key: value.mid.fmeasure * 100 for key, value in result.items()}\n",
    "    return result"
   ]
  },
  {
   "cell_type": "code",
   "execution_count": 65,
   "metadata": {},
   "outputs": [],
   "source": [
    "# Initialize the Trainer with model, tokenizer, and datasets\n",
    "trainer = Trainer(\n",
    "    model=model,\n",
    "    args=training_args,\n",
    "    train_dataset=train_dataset,\n",
    "    eval_dataset=test_dataset,\n",
    "    tokenizer=tokenizer,\n",
    "    compute_metrics=compute_metrics\n",
    ")"
   ]
  },
  {
   "cell_type": "code",
   "execution_count": null,
   "metadata": {},
   "outputs": [
    {
     "name": "stderr",
     "output_type": "stream",
     "text": [
      "/home/miislam/.local/lib/python3.7/site-packages/transformers/optimization.py:415: FutureWarning: This implementation of AdamW is deprecated and will be removed in a future version. Use the PyTorch implementation torch.optim.AdamW instead, or set `no_deprecation_warning=True` to disable this warning\n",
      "  FutureWarning,\n"
     ]
    },
    {
     "data": {
      "text/html": [
       "\n",
       "    <div>\n",
       "      \n",
       "      <progress value='6325' max='7542' style='width:300px; height:20px; vertical-align: middle;'></progress>\n",
       "      [6325/7542 59:31 < 11:27, 1.77 it/s, Epoch 0.84/1]\n",
       "    </div>\n",
       "    <table border=\"1\" class=\"dataframe\">\n",
       "  <thead>\n",
       " <tr style=\"text-align: left;\">\n",
       "      <th>Epoch</th>\n",
       "      <th>Training Loss</th>\n",
       "      <th>Validation Loss</th>\n",
       "    </tr>\n",
       "  </thead>\n",
       "  <tbody>\n",
       "  </tbody>\n",
       "</table><p>"
      ],
      "text/plain": [
       "<IPython.core.display.HTML object>"
      ]
     },
     "metadata": {},
     "output_type": "display_data"
    }
   ],
   "source": [
    "# Start Training\n",
    "trainer.train()"
   ]
  },
  {
   "cell_type": "code",
   "execution_count": null,
   "metadata": {},
   "outputs": [],
   "source": [
    "# Save the trained model\n",
    "trainer.save_model(\"./fine_tuned_model\")"
   ]
  },
  {
   "cell_type": "code",
   "execution_count": null,
   "metadata": {},
   "outputs": [],
   "source": [
    "# 4. Evaluation on test set\n",
    "eval_results = trainer.evaluate()\n",
    "print(\"Evaluation Results:\", eval_results)"
   ]
  },
  {
   "cell_type": "code",
   "execution_count": 37,
   "metadata": {},
   "outputs": [],
   "source": [
    "tokenizer = AutoTokenizer.from_pretrained(\"fine_tuned_model\")"
   ]
  },
  {
   "cell_type": "code",
   "execution_count": 38,
   "metadata": {},
   "outputs": [],
   "source": [
    "model = AutoModelForSeq2SeqLM.from_pretrained(\"fine_tuned_model\")"
   ]
  },
  {
   "cell_type": "code",
   "execution_count": 39,
   "metadata": {},
   "outputs": [],
   "source": [
    "# Example test input data (a list of Python methods with masked parts)\n",
    "test_inputs = [\n",
    "    \"\"\"def factorial(n):\n",
    "    <extra_id_0>\n",
    "        return 1\n",
    "    else:\n",
    "        return n * factorial(n-1)\"\"\",\n",
    "    \"\"\"\"def word_frequency(text):\n",
    "    words = text.split()\n",
    "    frequency = {}\n",
    "    for word in words:\n",
    "        word = word.lower()\n",
    "        <fill-in>\n",
    "            frequency[word] += 1\n",
    "        else:\n",
    "            frequency[word] = 1\n",
    "    return frequency\"\"\",\n",
    "    \"\"\"\"def primes_in_range(start, end):\n",
    "    def is_prime(num):\n",
    "        if num <= 1:\n",
    "            return False\n",
    "        for i in range(2, int(num**0.5) + 1):\n",
    "            <fill-in>\n",
    "                return False\n",
    "        return True\n",
    "    \n",
    "    primes = [num for num in range(start, end + 1) if is_prime(num)]\n",
    "    return primes\"\"\",\n",
    "    \"\"\"def put_blank_line(self, trace, count=1):\n",
    "        count -= self.blank_line_count\n",
    "        while count > ZERO:\n",
    "            self.put(BLANK_LINE)  \n",
    "            self.put(self.newline)  \n",
    "            <fill-in>\n",
    "                self.put(\"\"blank(%s)\"\" % str(trace))  \n",
    "            self.blank_line_count += 1\n",
    "            count -= 1\n",
    "        return self\n",
    "        \"\"\",\n",
    "        \"\"\"\n",
    "            def render(self, context):\n",
    "            bits = []\n",
    "            for node in self:\n",
    "                <fill-in>\n",
    "                    bit = self.render_node(node, context)\n",
    "                else:\n",
    "                    bit = node\n",
    "                bits.append(force_unicode(bit))\n",
    "            return mark_safe(u\"\".join(bits))\n",
    "        \"\"\",\n",
    "        \"\"\"\"def _cache_db_tables_iterator(tables, cache_alias, db_alias):\n",
    "            no_tables = not tables\n",
    "            cache_aliases = settings.CACHES if cache_alias is None else (cache_alias,)\n",
    "            db_aliases = settings.DATABASES if db_alias is None else (db_alias,)\n",
    "            for db_alias in db_aliases:\n",
    "                if no_tables:\n",
    "                    tables = connections[db_alias].introspection.table_names()\n",
    "               <fill-in>\n",
    "                    for cache_alias in cache_aliases:\n",
    "                        yield cache_alias, db_alias, tables\n",
    "         \"\"\",\n",
    "         \"\"\"def _cache_db_tables_iterator ( tables , cache_alias , db_alias ) : <TAB> no_tables = not tables <TAB> cache_aliases = settings . CACHES if cache_alias is None else ( cache_alias , ) <TAB> db_aliases = settings . DATABASES if db_alias is None else ( db_alias , ) <TAB> for db_alias in db_aliases : <TAB> <TAB> if no_tables : <TAB> <TAB> <TAB> tables = connections [ db_alias ] . introspection . table_names ( ) <TAB> <TAB> <fill-in> <TAB> <TAB> <TAB> for cache_alias in cache_aliases : <TAB> <TAB> <TAB> <TAB> yield cache_alias , db_alias , tables\"\"\"\n",
    "         ,\"\"\"\"def bind(self, sock, path):\n",
    "    # Bind the socket\n",
    "    try:\n",
    "        sock.bind(path)\n",
    "    except OSError as e:\n",
    "        <fill-in>\n",
    "            self.skipTest(\n",
    "                \"\"Pathname {0!a} is too long to serve as a AF_UNIX path\"\".format(path)\n",
    "            )\n",
    "        else:\n",
    "            raise\n",
    "    \"\"\",\"\"\"def render ( self , context ) : <TAB> bits = [ ] <TAB> for node in self : <TAB> <TAB> <fill-in> <TAB> <TAB> <TAB> bit = self . render_node ( node , context ) <TAB> <TAB> else : <TAB> <TAB> <TAB> bit = node <TAB> <TAB> bits . append ( force_unicode ( bit ) ) <TAB> return mark_safe ( u\"\" . join ( bits ) )\"\"\",\n",
    "    \"\"\"def _get_enclosing_context_level ( child_context , name ) : <TAB> <TAB> <TAB> if name in child_context . local_vars : <TAB> <TAB> return None <TAB> else : <TAB> <TAB> level = 0 <TAB> <TAB> for context in child_context . outer_contexts [ : : - 1 ] : <TAB> <TAB> <TAB> level += 1 <TAB> <TAB> <TAB> <fill-in> <TAB> <TAB> <TAB> <TAB> return level <TAB> return None\"\"\",\n",
    "    \"\"\"def calcPolygonRect ( pointArray ) : <TAB>  <TAB> <TAB> l , t , r , b = 10000000 , 10000000 , - 10000000 , - 10000000 <TAB> <TAB> <TAB> <TAB> <TAB> for n in pointArray : <TAB> <TAB> <fill-in> <TAB> <TAB> <TAB> l = n [ 0 ] <TAB> <TAB> if n [ 0 ] > r : <TAB> <TAB> <TAB> r = n [ 0 ] <TAB> <TAB> if n [ 1 ] < t : <TAB> <TAB> <TAB> t = n [ 1 ] <TAB> <TAB> if n [ 1 ] > b : <TAB> <TAB> <TAB> b = n [ 1 ] <TAB> return l , t , r , b\"\"\"\n",
    "]\n"
   ]
  },
  {
   "cell_type": "code",
   "execution_count": 40,
   "metadata": {},
   "outputs": [],
   "source": [
    "# Tokenize the test inputs\n",
    "tokenized_inputs = tokenizer(test_inputs, padding=True, truncation=True, return_tensors=\"pt\")"
   ]
  },
  {
   "cell_type": "code",
   "execution_count": 41,
   "metadata": {},
   "outputs": [],
   "source": [
    "# Generate predictions\n",
    "model.eval()  # Set the model to evaluation mode\n",
    "with torch.no_grad():  # Disable gradient calculation for inference\n",
    "    output_sequences = model.generate(\n",
    "        input_ids=tokenized_inputs.input_ids,\n",
    "        attention_mask=tokenized_inputs.attention_mask,\n",
    "        max_length=5000,  # Specify the maximum length of the generated output\n",
    "        num_return_sequences=1,\n",
    "        temperature=0.7  # Adjust temperature for randomness\n",
    "    )\n"
   ]
  },
  {
   "cell_type": "code",
   "execution_count": 42,
   "metadata": {},
   "outputs": [
    {
     "name": "stdout",
     "output_type": "stream",
     "text": [
      "Test Input 1:\n",
      "Original Input: def factorial(n):\n",
      "    <extra_id_0>\n",
      "        return 1\n",
      "    else:\n",
      "        return n * factorial(n-1)\n",
      "Model Prediction: if n == 0:\n",
      "--------------------------------------------------\n",
      "Test Input 2:\n",
      "Original Input: \"def word_frequency(text):\n",
      "    words = text.split()\n",
      "    frequency = {}\n",
      "    for word in words:\n",
      "        word = word.lower()\n",
      "        <fill-in>\n",
      "            frequency[word] += 1\n",
      "        else:\n",
      "            frequency[word] = 1\n",
      "    return frequency\n",
      "Model Prediction: if word in frequency:\n",
      "--------------------------------------------------\n",
      "Test Input 3:\n",
      "Original Input: \"def primes_in_range(start, end):\n",
      "    def is_prime(num):\n",
      "        if num <= 1:\n",
      "            return False\n",
      "        for i in range(2, int(num**0.5) + 1):\n",
      "            <fill-in>\n",
      "                return False\n",
      "        return True\n",
      "    \n",
      "    primes = [num for num in range(start, end + 1) if is_prime(num)]\n",
      "    return primes\n",
      "Model Prediction: if num <= 1:\n",
      "--------------------------------------------------\n",
      "Test Input 4:\n",
      "Original Input: def put_blank_line(self, trace, count=1):\n",
      "        count -= self.blank_line_count\n",
      "        while count > ZERO:\n",
      "            self.put(BLANK_LINE)  \n",
      "            self.put(self.newline)  \n",
      "            <fill-in>\n",
      "                self.put(\"\"blank(%s)\"\" % str(trace))  \n",
      "            self.blank_line_count += 1\n",
      "            count -= 1\n",
      "        return self\n",
      "        \n",
      "Model Prediction: if count > ZERO:\n",
      "--------------------------------------------------\n",
      "Test Input 5:\n",
      "Original Input: \n",
      "            def render(self, context):\n",
      "            bits = []\n",
      "            for node in self:\n",
      "                <fill-in>\n",
      "                    bit = self.render_node(node, context)\n",
      "                else:\n",
      "                    bit = node\n",
      "                bits.append(force_unicode(bit))\n",
      "            return mark_safe(u\"\".join(bits))\n",
      "        \n",
      "Model Prediction: if isinstance(node, ast.Binary):\n",
      "--------------------------------------------------\n",
      "Test Input 6:\n",
      "Original Input: \"def _cache_db_tables_iterator(tables, cache_alias, db_alias):\n",
      "            no_tables = not tables\n",
      "            cache_aliases = settings.CACHES if cache_alias is None else (cache_alias,)\n",
      "            db_aliases = settings.DATABASES if db_alias is None else (db_alias,)\n",
      "            for db_alias in db_aliases:\n",
      "                if no_tables:\n",
      "                    tables = connections[db_alias].introspection.table_names()\n",
      "               <fill-in>\n",
      "                    for cache_alias in cache_aliases:\n",
      "                        yield cache_alias, db_alias, tables\n",
      "         \n",
      "Model Prediction: if no_tables:\n",
      "--------------------------------------------------\n",
      "Test Input 7:\n",
      "Original Input: def _cache_db_tables_iterator ( tables , cache_alias , db_alias ) : <TAB> no_tables = not tables <TAB> cache_aliases = settings . CACHES if cache_alias is None else ( cache_alias , ) <TAB> db_aliases = settings . DATABASES if db_alias is None else ( db_alias , ) <TAB> for db_alias in db_aliases : <TAB> <TAB> if no_tables : <TAB> <TAB> <TAB> tables = connections [ db_alias ] . introspection . table_names ( ) <TAB> <TAB> <fill-in> <TAB> <TAB> <TAB> for cache_alias in cache_aliases : <TAB> <TAB> <TAB> <TAB> yield cache_alias , db_alias , tables\n",
      "Model Prediction: if no_tables :\n",
      "--------------------------------------------------\n",
      "Test Input 8:\n",
      "Original Input: \"def bind(self, sock, path):\n",
      "    # Bind the socket\n",
      "    try:\n",
      "        sock.bind(path)\n",
      "    except OSError as e:\n",
      "        <fill-in>\n",
      "            self.skipTest(\n",
      "                \"\"Pathname {0!a} is too long to serve as a AF_UNIX path\"\".format(path)\n",
      "            )\n",
      "        else:\n",
      "            raise\n",
      "    \n",
      "Model Prediction: if e.errno == errno.EINVAL:\n",
      "--------------------------------------------------\n",
      "Test Input 9:\n",
      "Original Input: def render ( self , context ) : <TAB> bits = [ ] <TAB> for node in self : <TAB> <TAB> <fill-in> <TAB> <TAB> <TAB> bit = self . render_node ( node , context ) <TAB> <TAB> else : <TAB> <TAB> <TAB> bit = node <TAB> <TAB> bits . append ( force_unicode ( bit ) ) <TAB> return mark_safe ( u\"\" . join ( bits ) )\n",
      "Model Prediction: if node. is_leaf :\n",
      "--------------------------------------------------\n",
      "Test Input 10:\n",
      "Original Input: def _get_enclosing_context_level ( child_context , name ) : <TAB> <TAB> <TAB> if name in child_context . local_vars : <TAB> <TAB> return None <TAB> else : <TAB> <TAB> level = 0 <TAB> <TAB> for context in child_context . outer_contexts [ : : - 1 ] : <TAB> <TAB> <TAB> level += 1 <TAB> <TAB> <TAB> <fill-in> <TAB> <TAB> <TAB> <TAB> return level <TAB> return None\n",
      "Model Prediction: if name in child_context. local_vars :\n",
      "--------------------------------------------------\n",
      "Test Input 11:\n",
      "Original Input: def calcPolygonRect ( pointArray ) : <TAB>  <TAB> <TAB> l , t , r , b = 10000000 , 10000000 , - 10000000 , - 10000000 <TAB> <TAB> <TAB> <TAB> <TAB> for n in pointArray : <TAB> <TAB> <fill-in> <TAB> <TAB> <TAB> l = n [ 0 ] <TAB> <TAB> if n [ 0 ] > r : <TAB> <TAB> <TAB> r = n [ 0 ] <TAB> <TAB> if n [ 1 ] < t : <TAB> <TAB> <TAB> t = n [ 1 ] <TAB> <TAB> if n [ 1 ] > b : <TAB> <TAB> <TAB> b = n [ 1 ] <TAB> return l , t , r , b\n",
      "Model Prediction: <TAB> <TAB> <TAB> <TAB> <TAB> <TAB> <TAB> <TAB>\n",
      "--------------------------------------------------\n"
     ]
    }
   ],
   "source": [
    "# Decode the generated sequences\n",
    "for i, output in enumerate(output_sequences):\n",
    "    decoded_text = tokenizer.decode(output, skip_special_tokens=True)\n",
    "    print(f\"Test Input {i + 1}:\")\n",
    "    print(f\"Original Input: {test_inputs[i]}\")\n",
    "    print(f\"Model Prediction: {decoded_text}\")\n",
    "    print(\"-\" * 50)"
   ]
  }
 ],
 "metadata": {
  "kernelspec": {
   "display_name": "base",
   "language": "python",
   "name": "python3"
  },
  "language_info": {
   "codemirror_mode": {
    "name": "ipython",
    "version": 3
   },
   "file_extension": ".py",
   "mimetype": "text/x-python",
   "name": "python",
   "nbconvert_exporter": "python",
   "pygments_lexer": "ipython3",
   "version": "3.7.4"
  }
 },
 "nbformat": 4,
 "nbformat_minor": 2
}
